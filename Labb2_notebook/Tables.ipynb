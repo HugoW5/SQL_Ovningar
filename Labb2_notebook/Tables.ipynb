{
    "metadata": {
        "kernelspec": {
            "name": "SQL",
            "display_name": "SQL",
            "language": "sql"
        },
        "language_info": {
            "name": "sql",
            "version": ""
        }
    },
    "nbformat_minor": 2,
    "nbformat": 4,
    "cells": [
        {
            "cell_type": "code",
            "source": [
                "CREATE DATABASE School"
            ],
            "metadata": {
                "azdata_cell_guid": "afaf7bb3-8632-4351-99d6-2a6fb6104a8a",
                "language": "sql"
            },
            "outputs": [
                {
                    "output_type": "display_data",
                    "data": {
                        "text/html": "Commands completed successfully."
                    },
                    "metadata": {}
                },
                {
                    "output_type": "display_data",
                    "data": {
                        "text/html": "Total execution time: 00:00:00.250"
                    },
                    "metadata": {}
                }
            ],
            "execution_count": 1
        },
        {
            "cell_type": "code",
            "source": [
                "Use School;\r\n",
                "\r\n",
                "CREATE TABLE Positions\r\n",
                "(\r\n",
                "    PositionId INT IDENTITY(1, 1) PRIMARY KEY,\r\n",
                "    PositionName VARCHAR(50) NOT NULL\r\n",
                ");\r\n",
                "\r\n",
                "CREATE TABLE Staff\r\n",
                "(\r\n",
                "    StaffId INT IDENTITY(1, 1) PRIMARY KEY,\r\n",
                "    FirstName VARCHAR(50) NOT NULL,\r\n",
                "    LastName VARCHAR(50) NOT NULL,\r\n",
                "    PersonalNumber VARCHAR(12) NOT NULL,\r\n",
                "    Position INT FOREIGN KEY REFERENCES Positions(PositionId) NOT NULL\r\n",
                ");\r\n",
                "\r\n",
                "CREATE TABLE Classes\r\n",
                "(\r\n",
                "    ClassId INT IDENTITY(1, 1) PRIMARY KEY,\r\n",
                "    ClassName VARCHAR(50) NOT NULL,\r\n",
                "    MentorId INT FOREIGN KEY REFERENCES Staff(StaffId)\r\n",
                ");\r\n",
                "\r\n",
                "CREATE TABLE Students\r\n",
                "(\r\n",
                "    StudentId INT IDENTITY(1, 1) PRIMARY KEY,\r\n",
                "    FirstName VARCHAR(50) NOT NULL,\r\n",
                "    LastName VARCHAR(50) NOT NULL,\r\n",
                "    PersonalNumber VARCHAR(12) NOT NULL,\r\n",
                "    ClassId INT FOREIGN KEY REFERENCES Classes(ClassId) NOT NULL\r\n",
                ");\r\n",
                "\r\n",
                "CREATE TABLE Subjects\r\n",
                "(\r\n",
                "    SubjectId INT IDENTITY(1, 1) PRIMARY KEY,\r\n",
                "    SubjectName VARCHAR(50) NOT NULL\r\n",
                ");\r\n",
                "\r\n",
                "CREATE TABLE Grades\r\n",
                "(\r\n",
                "    Grade CHAR PRIMARY KEY,\r\n",
                "    Credit DECIMAL(3, 1)\r\n",
                ");\r\n",
                "\r\n",
                "CREATE TABLE Student_Grades\r\n",
                "(\r\n",
                "    GradeId INT IDENTITY(1, 1) PRIMARY KEY,\r\n",
                "    GradeLevel CHAR FOREIGN KEY REFERENCES Grades(Grade),\r\n",
                "    TeacherId INT FOREIGN KEY REFERENCES Staff(StaffId),\r\n",
                "    StudentId INT FOREIGN KEY REFERENCES Students(StudentId),\r\n",
                "    SubjectId INT FOREIGN KEY REFERENCES Subjects(SubjectId),\r\n",
                "    GradeDate DATE NOT NULL\r\n",
                ");"
            ],
            "metadata": {
                "azdata_cell_guid": "79c20b4a-31af-462d-8795-2efa81fe31c7",
                "language": "sql"
            },
            "outputs": [
                {
                    "output_type": "display_data",
                    "data": {
                        "text/html": "Commands completed successfully."
                    },
                    "metadata": {}
                },
                {
                    "output_type": "display_data",
                    "data": {
                        "text/html": "Total execution time: 00:00:00.027"
                    },
                    "metadata": {}
                }
            ],
            "execution_count": 2
        },
        {
            "cell_type": "code",
            "source": [
                "Use School;\r\n",
                "INSERT INTO Grades (Grade, Credit)\r\n",
                "VALUES\r\n",
                "    ('A', 20),\r\n",
                "    ('B', 17.5),\r\n",
                "    ('C', 15),\r\n",
                "    ('D', 12.5),\r\n",
                "    ('E', 10),\r\n",
                "    ('F', 0);\r\n",
                "\r\n",
                "SELECT *\r\n",
                "FROM Grades;\r\n",
                ""
            ],
            "metadata": {
                "language": "sql",
                "azdata_cell_guid": "dfd350e3-4fab-401d-add4-4d8fd9eda73f",
                "tags": []
            },
            "outputs": [
                {
                    "output_type": "display_data",
                    "data": {
                        "text/html": "(6 rows affected)"
                    },
                    "metadata": {}
                },
                {
                    "output_type": "display_data",
                    "data": {
                        "text/html": "(6 rows affected)"
                    },
                    "metadata": {}
                },
                {
                    "output_type": "display_data",
                    "data": {
                        "text/html": "Total execution time: 00:00:00.031"
                    },
                    "metadata": {}
                },
                {
                    "output_type": "execute_result",
                    "metadata": {},
                    "execution_count": 8,
                    "data": {
                        "application/vnd.dataresource+json": {
                            "schema": {
                                "fields": [
                                    {
                                        "name": "Grade"
                                    },
                                    {
                                        "name": "Credit"
                                    }
                                ]
                            },
                            "data": [
                                {
                                    "Grade": "A",
                                    "Credit": "20.0"
                                },
                                {
                                    "Grade": "B",
                                    "Credit": "17.5"
                                },
                                {
                                    "Grade": "C",
                                    "Credit": "15.0"
                                },
                                {
                                    "Grade": "D",
                                    "Credit": "12.5"
                                },
                                {
                                    "Grade": "E",
                                    "Credit": "10.0"
                                },
                                {
                                    "Grade": "F",
                                    "Credit": "0.0"
                                }
                            ]
                        },
                        "text/html": [
                            "<table>",
                            "<tr><th>Grade</th><th>Credit</th></tr>",
                            "<tr><td>A</td><td>20.0</td></tr>",
                            "<tr><td>B</td><td>17.5</td></tr>",
                            "<tr><td>C</td><td>15.0</td></tr>",
                            "<tr><td>D</td><td>12.5</td></tr>",
                            "<tr><td>E</td><td>10.0</td></tr>",
                            "<tr><td>F</td><td>0.0</td></tr>",
                            "</table>"
                        ]
                    }
                }
            ],
            "execution_count": 8
        },
        {
            "cell_type": "code",
            "source": [
                ""
            ],
            "metadata": {
                "azdata_cell_guid": "c677dfb1-72ce-4ff3-8cdf-d11b5814324a",
                "language": "sql"
            },
            "outputs": [],
            "execution_count": null
        }
    ]
}